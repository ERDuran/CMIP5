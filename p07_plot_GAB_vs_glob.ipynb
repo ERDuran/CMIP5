{
 "cells": [
  {
   "cell_type": "code",
   "execution_count": 2,
   "metadata": {},
   "outputs": [],
   "source": [
    "'''\n",
    "This file plots CMIP5 RCP - HIST over South Australia\n",
    "/Users/earl/Desktop/Yang\n",
    "and places the outputs in\n",
    "/Users/earl/Dropbox/CMIP5/figures\n",
    "\n",
    "Earl Duran \n",
    "created: 19-Mar-18\n",
    "e.duran@unsw.edu.au\n",
    "'''\n",
    "\n",
    "import os\n",
    "import xarray as xr\n",
    "import numpy as np\n",
    "from mpl_toolkits.basemap import Basemap\n",
    "import matplotlib.pyplot as plt\n",
    "import matplotlib\n",
    "import sys\n",
    "import pickle\n",
    "import itertools\n",
    "def find_nearest_index(array, value):\n",
    "    return int((np.abs(array - value)).argmin())\n",
    "from scipy import interpolate\n",
    "\n"
   ]
  },
  {
   "cell_type": "code",
   "execution_count": 3,
   "metadata": {},
   "outputs": [
    {
     "data": {
      "application/javascript": [
       "IPython.notebook.kernel.execute('nb_name = ' + '\"' + IPython.notebook.notebook_name + '\"')"
      ],
      "text/plain": [
       "<IPython.core.display.Javascript object>"
      ]
     },
     "metadata": {},
     "output_type": "display_data"
    }
   ],
   "source": [
    "%%javascript\n",
    "IPython.notebook.kernel.execute('nb_name = ' + '\"' + IPython.notebook.notebook_name + '\"')"
   ]
  },
  {
   "cell_type": "code",
   "execution_count": 4,
   "metadata": {},
   "outputs": [
    {
     "data": {
      "text/plain": [
       "256"
      ]
     },
     "execution_count": 4,
     "metadata": {},
     "output_type": "execute_result"
    }
   ],
   "source": [
    "os.system('sshfs \\\n",
    "erd561@raijin.nci.org.au:/g/data/e14/erd561/CMIP5/bromeliad/ \\\n",
    "/Users/earl/Desktop/Demeter')"
   ]
  },
  {
   "cell_type": "code",
   "execution_count": 5,
   "metadata": {},
   "outputs": [
    {
     "name": "stdout",
     "output_type": "stream",
     "text": [
      "['IPSL-CM5A-MR', 'IPSL-CM5A-LR', 'GFDL-CM3', 'FGOALS-s2', 'CMCC-CMS', 'CMCC-CM', 'MIROC-ESM', 'MPI-ESM-MR', 'GFDL-ESM2M', 'CanESM2', 'MIROC-ESM-CHEM', 'ACCESS1-0', 'GFDL-ESM2G', 'HadGEM2-AO', 'ACCESS1-3', 'CSIRO-Mk3-6-0', 'MRI-ESM1', 'NorESM1-M', 'MRI-CGCM3', 'NorESM1-ME', 'FIO-ESM', 'CNRM-CM5', 'IPSL-CM5B-LR']\n"
     ]
    }
   ],
   "source": [
    "with open('p05_index_and_pools.pkl', 'rb') as f:\n",
    "    lat_warmN, lat_warmS, lon_warmW, lon_warmE, \\\n",
    "    SAM_index_sorted_cleaned, warm_pool_sorted_cleaned, wind_pool_sorted_cleaned = \\\n",
    "    pickle.load(f)\n",
    "\n",
    "print(SAM_index_sorted_cleaned)"
   ]
  },
  {
   "cell_type": "code",
   "execution_count": 6,
   "metadata": {},
   "outputs": [
    {
     "name": "stdout",
     "output_type": "stream",
     "text": [
      "p07_plot_GAB_vs_glob\n"
     ]
    }
   ],
   "source": [
    "script_name = nb_name[:-6]\n",
    "print(script_name)\n",
    "figures_path = '/Users/earl/Dropbox/CMIP5/figures/'\n",
    "\n",
    "\n",
    "hist_data_path = '/Users/earl/Desktop/Demeter/historical/'\n",
    "hist_tos_path = hist_data_path + 'mon/ocean/r1i1p1/tos/latest/'\n",
    "hist_tauuo_path = hist_data_path + 'mon/ocean/r1i1p1/tauuo/latest/'\n",
    "hist_tos_list = sorted(os.listdir(hist_tos_path))\n",
    "hist_tauuo_list = sorted(os.listdir(hist_tauuo_path))\n",
    "#print(hist_models_list)\n",
    "\n",
    "\n",
    "rcp85_data_path = '/Users/earl/Desktop/Demeter/rcp85/'\n",
    "rcp85_tos_path = rcp85_data_path + 'mon/ocean/r1i1p1/tos/latest/'\n",
    "rcp85_tauuo_path = rcp85_data_path + 'mon/ocean/r1i1p1/tauuo/latest/'\n",
    "rcp85_tos_list = sorted(os.listdir(rcp85_tos_path))\n",
    "rcp85_tauuo_list = sorted(os.listdir(rcp85_tauuo_path))\n",
    "#print(rcp85_models_list)\n"
   ]
  },
  {
   "cell_type": "code",
   "execution_count": 7,
   "metadata": {
    "scrolled": true
   },
   "outputs": [
    {
     "name": "stdout",
     "output_type": "stream",
     "text": [
      "ACCESS1-0 OK!\n",
      "ACCESS1-3 OK!\n",
      "CMCC-CM OK!\n",
      "CMCC-CMS OK!\n",
      "CNRM-CM5 OK!\n",
      "CSIRO-Mk3-6-0 OK!\n",
      "CanESM2 OK!\n",
      "FGOALS-s2 OK!\n",
      "FIO-ESM OK!\n",
      "GFDL-CM3 OK!\n",
      "GFDL-ESM2G OK!\n",
      "GFDL-ESM2M OK!\n",
      "HadGEM2-AO OK!\n",
      "IPSL-CM5A-LR OK!\n",
      "IPSL-CM5A-MR OK!\n",
      "IPSL-CM5B-LR OK!\n",
      "MIROC-ESM OK!\n",
      "MIROC-ESM-CHEM OK!\n",
      "MPI-ESM-MR OK!\n",
      "MRI-CGCM3 OK!\n",
      "MRI-ESM1 OK!\n",
      "NorESM1-M OK!\n",
      "NorESM1-ME OK!\n",
      "23\n"
     ]
    }
   ],
   "source": [
    "tos_hist = {}\n",
    "tos_rcp85 = {}\n",
    "tos_anom = {}\n",
    "tos_lat = {}\n",
    "tos_lon = {}\n",
    "\n",
    "tauuo_hist = {}\n",
    "tauuo_rcp85 = {}\n",
    "tauuo_anom = {}\n",
    "tauuo_lat = {}\n",
    "tauuo_lon = {}\n",
    "\n",
    "plot_list = sorted(SAM_index_sorted_cleaned)\n",
    "for model in plot_list:\n",
    "    # These models are hard to deal with:\n",
    "    # MIROC5 and inmcm4 have a crazy rotated grid\n",
    "    # MPI-ESM-LR has a weird grid too\n",
    "    if model in ['MIROC5', 'MPI-ESM-LR', 'inmcm4']:\n",
    "        continue\n",
    "    \n",
    "    tos_hist_data = xr.open_dataset(hist_tos_path + model + '_1981-2000mean.nc')\n",
    "    tos_rcp85_data = xr.open_dataset(rcp85_tos_path + model + '_2081-2100mean.nc')\n",
    "    tos_hist[model] = tos_hist_data['tos'][0,:,:]\n",
    "    tos_rcp85[model] = tos_rcp85_data['tos'][0,:,:]\n",
    "    \n",
    "    tauuo_hist_data = xr.open_dataset(hist_tauuo_path + model + '_1981-2000mean.nc')\n",
    "    tauuo_rcp85_data = xr.open_dataset(rcp85_tauuo_path + model + '_2081-2100mean.nc')\n",
    "    tauuo_hist[model] = tauuo_hist_data['tauuo'][0,:,:]\n",
    "    tauuo_rcp85[model] = tauuo_rcp85_data['tauuo'][0,:,:]\n",
    "\n",
    "    # MPI-ESM-LR has its lon cut-off over Australia\n",
    "    if model in ['MPI-ESM-LR']:\n",
    "        tos_hist_now = tos_hist[model]\n",
    "        tos_hist[model] = tos_hist_now.roll(i=100)\n",
    "        tos_rcp85_now = tos_rcp85[model]\n",
    "        tos_rcp85[model] = tos_rcp85_now.roll(i=100)\n",
    "        \n",
    "        tauuo_hist_now = tauuo_hist[model]\n",
    "        tauuo_hist[model] = tauuo_hist_now.roll(i=100)\n",
    "        tauuo_rcp85_now = tauuo_rcp85[model]\n",
    "        tauuo_rcp85[model] = tauuo_rcp85_now.roll(i=100)\n",
    "    \n",
    "    tos_anom[model] = tos_rcp85[model]-tos_hist[model]\n",
    "    tauuo_anom[model] = tauuo_rcp85[model]-tauuo_hist[model]\n",
    "    \n",
    "    if len(tos_hist_data['lat'].shape) is 2:\n",
    "        # MPI-ESM-LR and MPI-ESM-MR longitude index should be taken from the end\n",
    "        if model in ['MPI-ESM-LR', 'MPI-ESM-MR']:\n",
    "            tos_lat[model] = tos_hist_data['lat'][:,0]\n",
    "            tos_lon[model] = tos_hist_data['lon'][-1,:]\n",
    "            tauuo_lat[model] = tauuo_hist_data['lat'][:,0]\n",
    "            tauuo_lon[model] = tauuo_hist_data['lon'][-1,:]\n",
    "            print(model + ' OK!')\n",
    "            \n",
    "        else:\n",
    "            tos_lat[model] = tos_hist_data['lat'][:,0]\n",
    "            tos_lon[model] = tos_hist_data['lon'][0,:]\n",
    "            tauuo_lat[model] = tauuo_hist_data['lat'][:,0]\n",
    "            tauuo_lon[model] = tauuo_hist_data['lon'][0,:]\n",
    "            print(model + ' OK!')\n",
    "        \n",
    "    else:\n",
    "        tos_lat[model] = tos_hist_data['lat'][:]\n",
    "        tos_lon[model] = tos_hist_data['lon'][:]\n",
    "        tauuo_lat[model] = tos_hist_data['lat'][:]\n",
    "        tauuo_lon[model] = tos_hist_data['lon'][:]\n",
    "        print(model + ' OK!')\n",
    "    \n",
    "    # The GFDL models run need this lon offset fix ...\n",
    "    if model in ['GFDL-CM3', 'GFDL-ESM2G', 'GFDL-ESM2M']:\n",
    "        tos_lon[model][0:100] += 360\n",
    "        tauuo_lon[model][0:100] += 360\n",
    "    \n",
    "    # MPI-ESM-LR lon needs to be offset...\n",
    "    if model in ['MPI-ESM-LR']:\n",
    "        tos_lon[model] -= 180\n",
    "        tauuo_lon[model] -= 180\n",
    "    \n",
    "    # Also, MPI-ESM-LR and MPI-ESM-MR are flipped upside down...\n",
    "    # Couldn't find a flip function in xarray...\n",
    "    if model in ['MPI-ESM-LR', 'MPI-ESM-MR']:\n",
    "        tos_anom_now = tos_anom[model]\n",
    "        tos_anom[model] = np.flipud(tos_anom_now)\n",
    "        tauuo_anom_now = tauuo_anom[model]\n",
    "        tauuo_anom[model] = np.flipud(tauuo_anom_now)\n",
    "        \n",
    "        tos_lat_now = tos_lat[model]\n",
    "        tos_lat[model] = np.flipud(tos_lat_now)\n",
    "        tauuo_lat_now = tauuo_lat[model]\n",
    "        tauuo_lat[model] = np.flipud(tauuo_lat_now)\n",
    "        \n",
    "    # HadGEM2-AO, MRI-CGCM3 and MRI-ESM1 need to have their wind stress land masked...\n",
    "    if model in ['HadGEM2-AO', 'MRI-CGCM3', 'MRI-ESM1']:\n",
    "        # anything that satisfies the condition is SAFE\n",
    "        tauuo_anom[model] = tauuo_anom[model].where((tauuo_anom[model] != 0), np.nan)\n",
    "    \n",
    "    # MRI-CGCM3 and MRI-ESM1 need to have their SST land masked...\n",
    "    if model in ['MRI-CGCM3', 'MRI-ESM1']:\n",
    "        tos_anom[model] = tos_anom[model].where((tos_anom[model] != 0), np.nan)\n",
    "        \n",
    "print(len(plot_list))   "
   ]
  },
  {
   "cell_type": "code",
   "execution_count": 18,
   "metadata": {},
   "outputs": [
    {
     "name": "stdout",
     "output_type": "stream",
     "text": [
      "{'IPSL-CM5A-MR': 2.9238713, 'IPSL-CM5A-LR': 3.0115108, 'GFDL-CM3': 3.4371395, 'FGOALS-s2': 3.281168, 'CMCC-CMS': 2.7064049, 'CMCC-CM': 2.6062586, 'MIROC-ESM': 3.3803291, 'MPI-ESM-MR': 2.2764306, 'GFDL-ESM2M': 1.8202335, 'CanESM2': 3.0037251, 'MIROC-ESM-CHEM': 3.5852592, 'ACCESS1-0': 2.7222011, 'GFDL-ESM2G': 1.8162292, 'HadGEM2-AO': 2.9023163, 'ACCESS1-3': 2.7842751, 'CSIRO-Mk3-6-0': 2.7974329, 'MRI-ESM1': 2.6047022, 'NorESM1-M': 1.9923546, 'MRI-CGCM3': 2.1934483, 'NorESM1-ME': 2.1065075, 'FIO-ESM': 2.3301744, 'CNRM-CM5': 2.5539401, 'IPSL-CM5B-LR': 2.1853433}\n"
     ]
    }
   ],
   "source": [
    "# Calculate global SST anomaly:\n",
    "global_MMM = {}\n",
    "for model in SAM_index_sorted_cleaned:\n",
    "    global_MMM[model] = np.nanmean(tos_anom[model])\n",
    "    \n",
    "print(global_MMM)"
   ]
  },
  {
   "cell_type": "code",
   "execution_count": 29,
   "metadata": {},
   "outputs": [
    {
     "name": "stdout",
     "output_type": "stream",
     "text": [
      "[3.8531997, 3.5892086, 2.5441747, 4.1179905, 2.7116647, 2.3735912, 2.9135885, 2.0323305, 1.387588, 2.8168089, 2.8959525, 2.2436097, 1.480348, 2.3380773, 2.2334461, 2.3569658, 1.954566, 2.1240151, 1.7372552, 2.2576237, 2.977771, 2.2576282, 1.5453252]\n",
      "[2.9238713, 3.0115108, 3.4371395, 3.281168, 2.7064049, 2.6062586, 3.3803291, 2.2764306, 1.8202335, 3.0037251, 3.5852592, 2.7222011, 1.8162292, 2.9023163, 2.7842751, 2.7974329, 2.6047022, 1.9923546, 2.1934483, 2.1065075, 2.3301744, 2.5539401, 2.1853433]\n"
     ]
    },
    {
     "data": {
      "image/png": "[encoded data removed]",
      "text/plain": [
       "<matplotlib.figure.Figure at 0x1813a15278>"
      ]
     },
     "metadata": {},
     "output_type": "display_data"
    }
   ],
   "source": [
    "matplotlib.rcParams.update({'font.size': 14}) \n",
    "row = 1\n",
    "col = 1\n",
    "plt.rc('text', usetex=True)\n",
    "plt.rc('font', family='serif')\n",
    "\n",
    "plt.close('all')\n",
    "fig = plt.figure() \n",
    "fig.set_size_inches(13, 10)\n",
    "marker = itertools.cycle(('v', 'P', 'o')) \n",
    "\n",
    "ax = plt.subplot2grid((row, col), (0, 0))\n",
    "for idx, t in enumerate(plot_list):    \n",
    "    plt.plot(global_MMM[t] ,warm_pool_sorted_cleaned[t] , \n",
    "             marker = next(marker), markersize=10 ,linestyle='')\n",
    "\n",
    "# lat_warmN_idx = find_nearest_index(lat_unique, lat_warmN)\n",
    "# lat_warmS_idx = find_nearest_index(lat_unique, lat_warmS)\n",
    "# lon_warmW_idx = find_nearest_index(lon_unique, lon_warmW)\n",
    "# lon_warmE_idx = find_nearest_index(lon_unique, lon_warmE)\n",
    "\n",
    "tos_global_MMM_values = list(global_MMM.values())\n",
    "tos_anom_MMM_values = list(warm_pool_sorted_cleaned.values())\n",
    "tos_global_MMM_values_mean = np.nanmean(tos_global_MMM_values)\n",
    "tos_anom_MMM_values_mean = np.nanmean(tos_anom_MMM_values)\n",
    "\n",
    "print(tos_anom_MMM_values)\n",
    "print(tos_global_MMM_values)\n",
    "\n",
    "plt.plot(tos_global_MMM_values_mean, tos_anom_MMM_values_mean ,\n",
    "         marker = '*', markersize=20 ,linestyle='', color='k')\n",
    "\n",
    "plot_list_legend = plot_list[:]\n",
    "plot_list_legend.append('MMM')\n",
    "plt.legend(plot_list_legend, loc='center right', bbox_to_anchor=(1.0, 0.5))\n",
    "\n",
    "fit = np.polyfit(tos_global_MMM_values, tos_anom_MMM_values, 1)\n",
    "fit_fn = np.poly1d(fit) \n",
    "plt.plot(tos_global_MMM_values, fit_fn(tos_global_MMM_values), '--k')\n",
    "R2 = np.corrcoef(tos_global_MMM_values, tos_anom_MMM_values)[0, 1]**2\n",
    "ax.text(1.5, 4.5, '$R^2$ = ' + str(np.round(R2*100)/100))\n",
    "\n",
    "plt.xlabel('Global SST anomaly ($^{\\circ}C$)')\n",
    "plt.ylabel('GAB SST anomaly ($^{\\circ}C$)')\n",
    "plt.xlim([1, 5])\n",
    "plt.ylim([1, 5])\n",
    "\n",
    "# ax = plt.subplot2grid((row, col), (0, 1))\n",
    "# cmap = plt.get_cmap('plasma')\n",
    "# step = 0.2\n",
    "# contf_lvls = np.arange(1.6,3.4+1e-08,step)               \n",
    "# ax.set_facecolor('grey')\n",
    "# contf = plt.contourf(lon_unique, lat_unique, tos_anom_MMM,\n",
    "#                      contf_lvls, cmap=cmap, extend='both')\n",
    "# plot = plt.plot(\n",
    "#     [lon_warmW,lon_warmE,lon_warmE,lon_warmW,lon_warmW], \n",
    "#     [lat_warmS,lat_warmS,lat_warmN,lat_warmN,lat_warmS])\n",
    "# ax.set_title('Multi model mean sea surface temperature anomaly')\n",
    "# cbar = plt.colorbar(contf, orientation='vertical', drawedges=True)\n",
    "# cbar.set_label(r'$SST anomaly$ $^{\\circ}C$') \n",
    "# cbar.set_ticks(contf_lvls[np.arange(0,np.size(contf_lvls),2)])\n",
    "\n",
    "# ax = plt.subplot2grid((row, col), (1, 1))\n",
    "# cmap = plt.get_cmap('seismic')\n",
    "# step = 0.01\n",
    "# contf_lvls = np.arange(-0.06,0.06+1e-08,step)               \n",
    "# ax.set_facecolor('grey')\n",
    "# contf = plt.contourf(lon_unique, lat_unique, tauuo_anom_MMM,\n",
    "#                      contf_lvls, cmap=cmap, extend='both')\n",
    "# plot = plt.plot(\n",
    "#     [lon_warmW,lon_warmE,lon_warmE,lon_warmW,lon_warmW], \n",
    "#     [lat_warmS,lat_warmS,lat_warmN,lat_warmN,lat_warmS])\n",
    "# ax.set_title('Multi model mean wind stress anomaly')\n",
    "# cbar = plt.colorbar(contf, orientation='vertical', drawedges=True)\n",
    "# cbar.set_label(r'$\\tau$ $N/m^{2}$') \n",
    "# cbar.set_ticks(contf_lvls[np.arange(0,np.size(contf_lvls),2)])\n",
    "\n",
    "\n",
    "output_ls = os.listdir(figures_path)\n",
    "if not script_name:\n",
    "    script_name = 'test'\n",
    "elif script_name not in output_ls:\n",
    "    os.mkdir(figures_path + '/' + script_name)\n",
    "\n",
    "plt.savefig(figures_path + '/' + script_name + '/' + script_name[0:3] \\\n",
    "            + '_fig1_' + '.png', bbox_inches='tight', dpi=200)"
   ]
  }
 ],
 "metadata": {
  "kernelspec": {
   "display_name": "Python 3",
   "language": "python",
   "name": "python3"
  },
  "language_info": {
   "codemirror_mode": {
    "name": "ipython",
    "version": 3
   },
   "file_extension": ".py",
   "mimetype": "text/x-python",
   "name": "python",
   "nbconvert_exporter": "python",
   "pygments_lexer": "ipython3",
   "version": "3.6.3"
  }
 },
 "nbformat": 4,
 "nbformat_minor": 2
}
