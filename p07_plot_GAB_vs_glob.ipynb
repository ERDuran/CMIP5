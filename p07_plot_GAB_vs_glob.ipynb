{
 "cells": [
  {
   "cell_type": "code",
   "execution_count": 1,
   "metadata": {},
   "outputs": [],
   "source": [
    "'''\n",
    "This file plots CMIP5 RCP - HIST over South Australia\n",
    "/Users/earl/Desktop/Yang\n",
    "and places the outputs in\n",
    "/Users/earl/Dropbox/CMIP5/figures\n",
    "\n",
    "Earl Duran \n",
    "created: 19-Mar-18\n",
    "e.duran@unsw.edu.au\n",
    "'''\n",
    "\n",
    "import os\n",
    "import xarray as xr\n",
    "import numpy as np\n",
    "from mpl_toolkits.basemap import Basemap\n",
    "import matplotlib.pyplot as plt\n",
    "import matplotlib\n",
    "import sys\n",
    "import pickle\n",
    "import itertools\n",
    "def find_nearest_index(array, value):\n",
    "    return int((np.abs(array - value)).argmin())\n",
    "from scipy import interpolate\n",
    "\n"
   ]
  },
  {
   "cell_type": "code",
   "execution_count": 2,
   "metadata": {},
   "outputs": [
    {
     "data": {
      "application/javascript": [
       "IPython.notebook.kernel.execute('nb_name = ' + '\"' + IPython.notebook.notebook_name + '\"')"
      ],
      "text/plain": [
       "<IPython.core.display.Javascript object>"
      ]
     },
     "metadata": {},
     "output_type": "display_data"
    }
   ],
   "source": [
    "%%javascript\n",
    "IPython.notebook.kernel.execute('nb_name = ' + '\"' + IPython.notebook.notebook_name + '\"')"
   ]
  },
  {
   "cell_type": "code",
   "execution_count": 3,
   "metadata": {},
   "outputs": [
    {
     "data": {
      "text/plain": [
       "256"
      ]
     },
     "execution_count": 3,
     "metadata": {},
     "output_type": "execute_result"
    }
   ],
   "source": [
    "os.system('sshfs \\\n",
    "erd561@raijin.nci.org.au:/g/data/e14/erd561/CMIP5/bromeliad/ \\\n",
    "/Users/earl/Desktop/Demeter')"
   ]
  },
  {
   "cell_type": "code",
   "execution_count": 4,
   "metadata": {},
   "outputs": [
    {
     "name": "stdout",
     "output_type": "stream",
     "text": [
      "['IPSL-CM5A-MR', 'IPSL-CM5A-LR', 'GFDL-CM3', 'FGOALS-s2', 'CMCC-CMS', 'CMCC-CM', 'MPI-ESM-MR', 'GFDL-ESM2M', 'ACCESS1-0', 'MIROC-ESM', 'MIROC-ESM-CHEM', 'CanESM2', 'GFDL-ESM2G', 'ACCESS1-3', 'CSIRO-Mk3-6-0', 'HadGEM2-AO', 'MRI-ESM1', 'MRI-CGCM3', 'NorESM1-M', 'IPSL-CM5B-LR', 'CNRM-CM5']\n"
     ]
    }
   ],
   "source": [
    "with open('p05_index_and_pools.pkl', 'rb') as f:\n",
    "    lat_warmN, lat_warmS, lon_warmW, lon_warmE, \\\n",
    "    SAM_index_sorted_cleaned, warm_pool_sorted_cleaned, wind_pool_sorted_cleaned = \\\n",
    "    pickle.load(f)\n",
    "\n",
    "print(SAM_index_sorted_cleaned)"
   ]
  },
  {
   "cell_type": "code",
   "execution_count": 5,
   "metadata": {},
   "outputs": [
    {
     "name": "stdout",
     "output_type": "stream",
     "text": [
      "p07_plot_GAB_vs_glob\n"
     ]
    }
   ],
   "source": [
    "script_name = nb_name[:-6]\n",
    "print(script_name)\n",
    "figures_path = '/Users/earl/Dropbox/CMIP5/figures/'\n",
    "\n",
    "hist_thetao_path = '/Users/earl/Desktop/cyclamen/historical/mon/ocean/thetao/latest/'\n",
    "hist_tauuo_path = '/Users/earl/Desktop/bamboo/historical/mon/ocean/tauuo/latest/'\n",
    "hist_thetao_list = sorted(os.listdir(hist_thetao_path))\n",
    "hist_tauuo_list = sorted(os.listdir(hist_tauuo_path))\n",
    "\n",
    "rcp85_thetao_path = '/Users/earl/Desktop/cyclamen/rcp85/mon/ocean/thetao/latest/'\n",
    "rcp85_tauuo_path = '/Users/earl/Desktop/bamboo/rcp85/mon/ocean/tauuo/latest/'\n",
    "rcp85_thetao_list = sorted(os.listdir(rcp85_thetao_path))\n",
    "rcp85_tauuo_list = sorted(os.listdir(rcp85_tauuo_path))\n"
   ]
  },
  {
   "cell_type": "code",
   "execution_count": 6,
   "metadata": {
    "scrolled": true
   },
   "outputs": [
    {
     "name": "stdout",
     "output_type": "stream",
     "text": [
      "ACCESS1-0\n",
      "ACCESS1-3\n",
      "CMCC-CM\n",
      "CMCC-CMS\n",
      "CNRM-CM5\n",
      "CSIRO-Mk3-6-0\n",
      "CanESM2\n",
      "FGOALS-s2\n",
      "GFDL-CM3\n",
      "GFDL-ESM2G\n",
      "GFDL-ESM2M\n",
      "HadGEM2-AO\n",
      "IPSL-CM5A-LR\n",
      "IPSL-CM5A-MR\n",
      "IPSL-CM5B-LR\n",
      "MIROC-ESM\n",
      "MIROC-ESM-CHEM\n",
      "MPI-ESM-MR\n",
      "MRI-CGCM3\n",
      "MRI-ESM1\n",
      "NorESM1-M\n",
      "21\n"
     ]
    }
   ],
   "source": [
    "thetao_hist = {}\n",
    "thetao_rcp85 = {}\n",
    "thetao_anom = {}\n",
    "thetao_lat = {}\n",
    "thetao_lon = {}\n",
    "\n",
    "tauuo_hist = {}\n",
    "tauuo_rcp85 = {}\n",
    "tauuo_anom = {}\n",
    "tauuo_lat = {}\n",
    "tauuo_lon = {}\n",
    "\n",
    "plot_list = sorted(SAM_index_sorted_cleaned)\n",
    "for model in plot_list:\n",
    "    print(model)\n",
    "    # These models are hard to deal with:\n",
    "    # MIROC5 and inmcm4 have a crazy rotated grid\n",
    "    # MPI-ESM-LR has a weird grid too\n",
    "    if model in ['MIROC5', 'MPI-ESM-LR', 'inmcm4']:\n",
    "        continue\n",
    "    \n",
    "    if model in ['CESM1-WACCM']:\n",
    "        r = '2'\n",
    "    else:\n",
    "        r = '1'\n",
    "    thetao_rcp85_data = xr.open_dataset(\n",
    "        rcp85_thetao_path + model + '_r' + r + 'i1p1_2080-2099mean_surf.nc', decode_times=False)\n",
    "    tauuo_rcp85_data = xr.open_dataset(\n",
    "        rcp85_tauuo_path + model + '_r' + r + 'i1p1_2080-2099mean.nc', decode_times=False)\n",
    "    \n",
    "    if model in ['CESM1-WACCM']:\n",
    "        r = '1'\n",
    "    else:\n",
    "        r = '1'\n",
    "    thetao_hist_data = xr.open_dataset(\n",
    "        hist_thetao_path + model + '_r' + r + 'i1p1_1980-1999mean_surf.nc', decode_times=False)\n",
    "    \n",
    "    if model in ['EC-EARTH']:\n",
    "        r = '2'\n",
    "    tauuo_hist_data = xr.open_dataset(\n",
    "        hist_tauuo_path + model + '_r' + r + 'i1p1_1980-1999mean.nc', decode_times=False)\n",
    "\n",
    "    thetao_hist[model] = thetao_hist_data['thetao'][0,0,:,:]\n",
    "    thetao_rcp85[model] = thetao_rcp85_data['thetao'][0,0,:,:]\n",
    "    tauuo_hist[model] = tauuo_hist_data['tauuo'][0,:,:]\n",
    "    tauuo_rcp85[model] = tauuo_rcp85_data['tauuo'][0,:,:]\n",
    "\n",
    "    # MPI-ESM-LR has its lon cut-off over Australia\n",
    "    if model in ['MPI-ESM-LR']:\n",
    "        thetao_hist_now = thetao_hist[model]\n",
    "        thetao_hist[model] = thetao_hist_now.roll(i=100)\n",
    "        thetao_rcp85_now = thetao_rcp85[model]\n",
    "        thetao_rcp85[model] = thetao_rcp85_now.roll(i=100)\n",
    "        \n",
    "        tauuo_hist_now = tauuo_hist[model]\n",
    "        tauuo_hist[model] = tauuo_hist_now.roll(i=100)\n",
    "        tauuo_rcp85_now = tauuo_rcp85[model]\n",
    "        tauuo_rcp85[model] = tauuo_rcp85_now.roll(i=100)\n",
    "    \n",
    "    thetao_anom[model] = thetao_rcp85[model]-thetao_hist[model]\n",
    "    tauuo_anom[model] = tauuo_rcp85[model]-tauuo_hist[model]\n",
    "    \n",
    "    if len(thetao_hist_data['lat'].shape) is 2:\n",
    "        # MPI-ESM-LR and MPI-ESM-MR longitude index should be taken from the end\n",
    "        if model in ['MPI-ESM-LR', 'MPI-ESM-MR']:\n",
    "            thetao_lat[model] = thetao_hist_data['lat'][:,0]\n",
    "            thetao_lon[model] = thetao_hist_data['lon'][-1,:]\n",
    "        else:\n",
    "            thetao_lat[model] = thetao_hist_data['lat'][:,0]\n",
    "            thetao_lon[model] = thetao_hist_data['lon'][0,:]\n",
    "    else:\n",
    "        thetao_lat[model] = thetao_hist_data['lat'][:]\n",
    "        thetao_lon[model] = thetao_hist_data['lon'][:]\n",
    "        \n",
    "    if len(tauuo_hist_data['lat'].shape) is 2:\n",
    "        # MPI-ESM-LR and MPI-ESM-MR longitude index should be taken from the end\n",
    "        if model in ['MPI-ESM-LR', 'MPI-ESM-MR']:\n",
    "            tauuo_lat[model] = tauuo_hist_data['lat'][:,0]\n",
    "            tauuo_lon[model] = tauuo_hist_data['lon'][-1,:]\n",
    "        else:\n",
    "            tauuo_lat[model] = tauuo_hist_data['lat'][:,0]\n",
    "            tauuo_lon[model] = tauuo_hist_data['lon'][0,:]\n",
    "    else:\n",
    "        tauuo_lat[model] = thetao_hist_data['lat'][:]\n",
    "        tauuo_lon[model] = thetao_hist_data['lon'][:]\n",
    "    \n",
    "    # The GFDL models run need this lon offset fix ...\n",
    "    if model in ['GFDL-CM3', 'GFDL-ESM2G', 'GFDL-ESM2M']:\n",
    "        thetao_lon[model][0:100] += 360\n",
    "        tauuo_lon[model][0:100] += 360\n",
    "    \n",
    "    # MPI-ESM-LR lon needs to be offset...\n",
    "    if model in ['MPI-ESM-LR']:\n",
    "        thetao_lon[model] -= 180\n",
    "        tauuo_lon[model] -= 180\n",
    "    \n",
    "    # Also, MPI-ESM-LR and MPI-ESM-MR are flipped upside down...\n",
    "    # Couldn't find a flip function in xarray...\n",
    "    if model in ['MPI-ESM-LR', 'MPI-ESM-MR']:\n",
    "        thetao_anom_now = thetao_anom[model]\n",
    "        thetao_anom[model] = np.flipud(thetao_anom_now)\n",
    "        tauuo_anom_now = tauuo_anom[model]\n",
    "        tauuo_anom[model] = np.flipud(tauuo_anom_now)\n",
    "        \n",
    "        thetao_lat_now = thetao_lat[model]\n",
    "        thetao_lat[model] = np.flipud(thetao_lat_now)\n",
    "        tauuo_lat_now = tauuo_lat[model]\n",
    "        tauuo_lat[model] = np.flipud(tauuo_lat_now)\n",
    "        \n",
    "    # HadGEM2-AO, MRI-CGCM3 and MRI-ESM1 need to have their wind stress land masked...\n",
    "    if model in ['HadGEM2-AO', 'MRI-CGCM3', 'MRI-ESM1', 'EC-EARTH']:\n",
    "        # anything that satisfies the condition is SAFE\n",
    "        tauuo_anom[model] = tauuo_anom[model].where((tauuo_anom[model] != 0), np.nan)\n",
    "    \n",
    "    # MRI-CGCM3 and MRI-ESM1 need to have their SST land masked...\n",
    "    if model in ['MRI-CGCM3', 'MRI-ESM1', 'EC-EARTH']:\n",
    "        thetao_anom[model] = thetao_anom[model].where((thetao_anom[model] != 0), np.nan)\n",
    "        \n",
    "print(len(plot_list))   "
   ]
  },
  {
   "cell_type": "code",
   "execution_count": 7,
   "metadata": {},
   "outputs": [
    {
     "name": "stdout",
     "output_type": "stream",
     "text": [
      "{'IPSL-CM5A-MR': 2.8923409, 'IPSL-CM5A-LR': 2.9904785, 'GFDL-CM3': 3.3988163, 'FGOALS-s2': 3.2564859, 'CMCC-CMS': 2.6834273, 'CMCC-CM': 2.5792053, 'MPI-ESM-MR': 2.2581325, 'GFDL-ESM2M': 1.8187418, 'ACCESS1-0': 2.6896484, 'MIROC-ESM': 3.3338687, 'MIROC-ESM-CHEM': 3.5227914, 'CanESM2': 2.9769533, 'GFDL-ESM2G': 1.7988269, 'ACCESS1-3': 2.75614, 'CSIRO-Mk3-6-0': 2.4097259, 'HadGEM2-AO': 2.8746197, 'MRI-ESM1': 2.5726848, 'MRI-CGCM3': 2.1594028, 'NorESM1-M': 1.9738988, 'IPSL-CM5B-LR': 2.1574078, 'CNRM-CM5': 2.5346916}\n"
     ]
    }
   ],
   "source": [
    "# Calculate global SST anomaly:\n",
    "global_MMM = {}\n",
    "for model in SAM_index_sorted_cleaned:\n",
    "    global_MMM[model] = np.nanmean(thetao_anom[model])\n",
    "    \n",
    "print(global_MMM)"
   ]
  },
  {
   "cell_type": "code",
   "execution_count": 8,
   "metadata": {},
   "outputs": [
    {
     "name": "stdout",
     "output_type": "stream",
     "text": [
      "[3.6483953, 3.4320967, 2.5400777, 4.0586686, 2.6142709, 2.31336, 1.8679976, 1.3245877, 2.202857, 2.6914086, 2.7934072, 2.8236244, 1.4147962, 2.1830413, 2.3251143, 2.2718818, 1.9034134, 1.6897407, 2.0558586, 1.5385548, 2.1982505]\n",
      "[2.8923409, 2.9904785, 3.3988163, 3.2564859, 2.6834273, 2.5792053, 2.2581325, 1.8187418, 2.6896484, 3.3338687, 3.5227914, 2.9769533, 1.7988269, 2.75614, 2.4097259, 2.8746197, 2.5726848, 2.1594028, 1.9738988, 2.1574078, 2.5346916]\n"
     ]
    },
    {
     "data": {
      "image/png": "[encoded data removed]",
      "text/plain": [
       "<matplotlib.figure.Figure at 0x18154903c8>"
      ]
     },
     "metadata": {},
     "output_type": "display_data"
    }
   ],
   "source": [
    "matplotlib.rcParams.update({'font.size': 14}) \n",
    "row = 1\n",
    "col = 1\n",
    "plt.rc('text', usetex=True)\n",
    "plt.rc('font', family='serif')\n",
    "\n",
    "plt.close('all')\n",
    "fig = plt.figure() \n",
    "fig.set_size_inches(13, 10)\n",
    "marker = itertools.cycle(('v', 'P', 'o')) \n",
    "\n",
    "ax = plt.subplot2grid((row, col), (0, 0))\n",
    "for idx, t in enumerate(plot_list):    \n",
    "    plt.plot(global_MMM[t] ,warm_pool_sorted_cleaned[t] , \n",
    "             marker = next(marker), markersize=10 ,linestyle='')\n",
    "\n",
    "# lat_warmN_idx = find_nearest_index(lat_unique, lat_warmN)\n",
    "# lat_warmS_idx = find_nearest_index(lat_unique, lat_warmS)\n",
    "# lon_warmW_idx = find_nearest_index(lon_unique, lon_warmW)\n",
    "# lon_warmE_idx = find_nearest_index(lon_unique, lon_warmE)\n",
    "\n",
    "thetao_global_MMM_values = list(global_MMM.values())\n",
    "thetao_anom_MMM_values = list(warm_pool_sorted_cleaned.values())\n",
    "thetao_global_MMM_values_mean = np.nanmean(thetao_global_MMM_values)\n",
    "thetao_anom_MMM_values_mean = np.nanmean(thetao_anom_MMM_values)\n",
    "\n",
    "print(thetao_anom_MMM_values)\n",
    "print(thetao_global_MMM_values)\n",
    "\n",
    "plt.plot(thetao_global_MMM_values_mean, thetao_anom_MMM_values_mean ,\n",
    "         marker = '*', markersize=20 ,linestyle='', color='k')\n",
    "\n",
    "plot_list_legend = plot_list[:]\n",
    "plot_list_legend.append('MMM')\n",
    "plt.legend(plot_list_legend, loc='center right', bbox_to_anchor=(1.0, 0.5))\n",
    "\n",
    "fit = np.polyfit(thetao_global_MMM_values, thetao_anom_MMM_values, 1)\n",
    "fit_fn = np.poly1d(fit) \n",
    "plt.plot(thetao_global_MMM_values, fit_fn(thetao_global_MMM_values), '--k')\n",
    "R2 = np.corrcoef(thetao_global_MMM_values, thetao_anom_MMM_values)[0, 1]**2\n",
    "ax.text(1.5, 4.5, '$R^2$ = ' + str(np.round(R2*100)/100))\n",
    "\n",
    "plt.xlabel('Global SST anomaly ($^{\\circ}C$)')\n",
    "plt.ylabel('GAB SST anomaly ($^{\\circ}C$)')\n",
    "plt.xlim([1, 5])\n",
    "plt.ylim([1, 5])\n",
    "\n",
    "# ax = plt.subplot2grid((row, col), (0, 1))\n",
    "# cmap = plt.get_cmap('plasma')\n",
    "# step = 0.2\n",
    "# contf_lvls = np.arange(1.6,3.4+1e-08,step)               \n",
    "# ax.set_facecolor('grey')\n",
    "# contf = plt.contourf(lon_unique, lat_unique, thetao_anom_MMM,\n",
    "#                      contf_lvls, cmap=cmap, extend='both')\n",
    "# plot = plt.plot(\n",
    "#     [lon_warmW,lon_warmE,lon_warmE,lon_warmW,lon_warmW], \n",
    "#     [lat_warmS,lat_warmS,lat_warmN,lat_warmN,lat_warmS])\n",
    "# ax.set_title('Multi model mean sea surface temperature anomaly')\n",
    "# cbar = plt.colorbar(contf, orientation='vertical', drawedges=True)\n",
    "# cbar.set_label(r'$SST anomaly$ $^{\\circ}C$') \n",
    "# cbar.set_ticks(contf_lvls[np.arange(0,np.size(contf_lvls),2)])\n",
    "\n",
    "# ax = plt.subplot2grid((row, col), (1, 1))\n",
    "# cmap = plt.get_cmap('seismic')\n",
    "# step = 0.01\n",
    "# contf_lvls = np.arange(-0.06,0.06+1e-08,step)               \n",
    "# ax.set_facecolor('grey')\n",
    "# contf = plt.contourf(lon_unique, lat_unique, tauuo_anom_MMM,\n",
    "#                      contf_lvls, cmap=cmap, extend='both')\n",
    "# plot = plt.plot(\n",
    "#     [lon_warmW,lon_warmE,lon_warmE,lon_warmW,lon_warmW], \n",
    "#     [lat_warmS,lat_warmS,lat_warmN,lat_warmN,lat_warmS])\n",
    "# ax.set_title('Multi model mean wind stress anomaly')\n",
    "# cbar = plt.colorbar(contf, orientation='vertical', drawedges=True)\n",
    "# cbar.set_label(r'$\\tau$ $N/m^{2}$') \n",
    "# cbar.set_ticks(contf_lvls[np.arange(0,np.size(contf_lvls),2)])\n",
    "\n",
    "\n",
    "output_ls = os.listdir(figures_path)\n",
    "if not script_name:\n",
    "    script_name = 'test'\n",
    "elif script_name not in output_ls:\n",
    "    os.mkdir(figures_path + '/' + script_name)\n",
    "\n",
    "plt.savefig(figures_path + '/' + script_name + '/' + script_name[0:3] \\\n",
    "            + '_fig1_' + '.png', bbox_inches='tight', dpi=200)"
   ]
  },
  {
   "cell_type": "code",
   "execution_count": null,
   "metadata": {},
   "outputs": [],
   "source": []
  }
 ],
 "metadata": {
  "kernelspec": {
   "display_name": "Python 3",
   "language": "python",
   "name": "python3"
  },
  "language_info": {
   "codemirror_mode": {
    "name": "ipython",
    "version": 3
   },
   "file_extension": ".py",
   "mimetype": "text/x-python",
   "name": "python",
   "nbconvert_exporter": "python",
   "pygments_lexer": "ipython3",
   "version": "3.6.3"
  }
 },
 "nbformat": 4,
 "nbformat_minor": 2
}
