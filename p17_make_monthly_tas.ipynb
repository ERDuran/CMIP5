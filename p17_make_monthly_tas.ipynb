{
 "cells": [
  {
   "cell_type": "code",
   "execution_count": 10,
   "metadata": {},
   "outputs": [],
   "source": [
    "'''\n",
    "This file plots CMIP5 RCP - HIST over South Australia\n",
    "/Users/earl/Desktop/Yang\n",
    "and places the outputs in\n",
    "/Users/earl/Dropbox/CMIP5/figures\n",
    "\n",
    "Earl Duran \n",
    "created: 19-Mar-18\n",
    "e.duran@unsw.edu.au\n",
    "'''\n",
    "\n",
    "import os\n",
    "import xarray as xr\n",
    "import numpy as np\n",
    "from mpl_toolkits.basemap import Basemap\n",
    "import matplotlib.pyplot as plt\n",
    "import matplotlib\n",
    "import sys\n",
    "import pickle\n",
    "import itertools\n",
    "def find_nearest_index(array, value):\n",
    "    return int((np.abs(array - value)).argmin())\n",
    "from scipy import interpolate\n"
   ]
  },
  {
   "cell_type": "code",
   "execution_count": 11,
   "metadata": {},
   "outputs": [
    {
     "data": {
      "application/javascript": [
       "IPython.notebook.kernel.execute('nb_name = ' + '\"' + IPython.notebook.notebook_name + '\"')"
      ],
      "text/plain": [
       "<IPython.core.display.Javascript object>"
      ]
     },
     "metadata": {},
     "output_type": "display_data"
    }
   ],
   "source": [
    "%%javascript\n",
    "IPython.notebook.kernel.execute('nb_name = ' + '\"' + IPython.notebook.notebook_name + '\"')"
   ]
  },
  {
   "cell_type": "code",
   "execution_count": 12,
   "metadata": {},
   "outputs": [
    {
     "data": {
      "text/plain": [
       "256"
      ]
     },
     "execution_count": 12,
     "metadata": {},
     "output_type": "execute_result"
    }
   ],
   "source": [
    "os.system('sshfs \\\n",
    "erd561@raijin.nci.org.au:/g/data/e14/erd561/CMIP5/cycas/ \\\n",
    "/Users/earl/Desktop/cyclamen')"
   ]
  },
  {
   "cell_type": "code",
   "execution_count": 13,
   "metadata": {},
   "outputs": [
    {
     "name": "stdout",
     "output_type": "stream",
     "text": [
      "['IPSL-CM5A-MR', 'IPSL-CM5A-LR', 'GFDL-CM3', 'FGOALS-s2', 'CMCC-CMS', 'CMCC-CM', 'MPI-ESM-MR', 'GFDL-ESM2M', 'ACCESS1-0', 'MIROC-ESM', 'MIROC-ESM-CHEM', 'CanESM2', 'GFDL-ESM2G', 'ACCESS1-3', 'CSIRO-Mk3-6-0', 'HadGEM2-AO', 'MRI-ESM1', 'MRI-CGCM3', 'NorESM1-M', 'IPSL-CM5B-LR', 'CNRM-CM5']\n"
     ]
    }
   ],
   "source": [
    "with open('p05_index_and_pools.pkl', 'rb') as f:\n",
    "    lat_warmN, lat_warmS, lon_warmW, lon_warmE, \\\n",
    "    SAM_index_sorted_cleaned, warm_pool_sorted_cleaned, wind_pool_sorted_cleaned = \\\n",
    "    pickle.load(f)\n",
    "    \n",
    "print(SAM_index_sorted_cleaned)"
   ]
  },
  {
   "cell_type": "code",
   "execution_count": 14,
   "metadata": {},
   "outputs": [
    {
     "name": "stdout",
     "output_type": "stream",
     "text": [
      "p17_make_monthly_tas\n"
     ]
    }
   ],
   "source": [
    "script_name = nb_name[:-6]\n",
    "print(script_name)\n",
    "figures_path = '/Users/earl/Dropbox/CMIP5/figures/'\n",
    "\n",
    "hist_uas_path = '/Users/earl/Desktop/cyclamen/historical/mon/atmos/tas/latest/'\n",
    "hist_uas_list = sorted(os.listdir(hist_uas_path))\n",
    "\n",
    "rcp85_uas_path = '/Users/earl/Desktop/cyclamen/rcp85/mon/atmos/tas/latest/'\n",
    "rcp85_uas_list = sorted(os.listdir(rcp85_uas_path))\n"
   ]
  },
  {
   "cell_type": "code",
   "execution_count": 15,
   "metadata": {},
   "outputs": [
    {
     "name": "stdout",
     "output_type": "stream",
     "text": [
      "(94,)\n",
      "(192,)\n"
     ]
    }
   ],
   "source": [
    "lon_unique = [0, 1.875, 3.75, 5.625, 7.5, 9.375, 11.25, 13.125, 15, 16.875, 18.75, \n",
    "    20.625, 22.5, 24.375, 26.25, 28.125, 30, 31.875, 33.75, 35.625, 37.5, \n",
    "    39.375, 41.25, 43.125, 45, 46.875, 48.75, 50.625, 52.5, 54.375, 56.25, \n",
    "    58.125, 60, 61.875, 63.75, 65.625, 67.5, 69.375, 71.25, 73.125, 75, \n",
    "    76.875, 78.75, 80.625, 82.5, 84.375, 86.25, 88.125, 90, 91.875, 93.75, \n",
    "    95.625, 97.5, 99.375, 101.25, 103.125, 105, 106.875, 108.75, 110.625, \n",
    "    112.5, 114.375, 116.25, 118.125, 120, 121.875, 123.75, 125.625, 127.5, \n",
    "    129.375, 131.25, 133.125, 135, 136.875, 138.75, 140.625, 142.5, 144.375, \n",
    "    146.25, 148.125, 150, 151.875, 153.75, 155.625, 157.5, 159.375, 161.25, \n",
    "    163.125, 165, 166.875, 168.75, 170.625, 172.5, 174.375, 176.25, 178.125, \n",
    "    180, 181.875, 183.75, 185.625, 187.5, 189.375, 191.25, 193.125, 195, \n",
    "    196.875, 198.75, 200.625, 202.5, 204.375, 206.25, 208.125, 210, 211.875, \n",
    "    213.75, 215.625, 217.5, 219.375, 221.25, 223.125, 225, 226.875, 228.75, \n",
    "    230.625, 232.5, 234.375, 236.25, 238.125, 240, 241.875, 243.75, 245.625, \n",
    "    247.5, 249.375, 251.25, 253.125, 255, 256.875, 258.75, 260.625, 262.5, \n",
    "    264.375, 266.25, 268.125, 270, 271.875, 273.75, 275.625, 277.5, 279.375, \n",
    "    281.25, 283.125, 285, 286.875, 288.75, 290.625, 292.5, 294.375, 296.25, \n",
    "    298.125, 300, 301.875, 303.75, 305.625, 307.5, 309.375, 311.25, 313.125, \n",
    "    315, 316.875, 318.75, 320.625, 322.5, 324.375, 326.25, 328.125, 330, \n",
    "    331.875, 333.75, 335.625, 337.5, 339.375, 341.25, 343.125, 345, 346.875, \n",
    "    348.75, 350.625, 352.5, 354.375, 356.25, 358.125]\n",
    "\n",
    "\n",
    "lat_unique = [-88.5419998168945, -86.6531982421875, -84.7531967163086, \n",
    "    -82.8507995605469, -80.9474029541016, -79.0435028076172, \n",
    "    -77.1392974853516, -75.2350997924805, -73.3307037353516, \n",
    "    -71.4262008666992, -69.5216979980469, -67.6171035766602, \n",
    "    -65.7125015258789, -63.8078994750977, -61.9033012390137, \n",
    "    -59.9986000061035, -58.0940017700195, -56.1893005371094, \n",
    "    -54.2845993041992, -52.3799018859863, -50.4752006530762, \n",
    "    -48.570499420166, -46.6657981872559, -44.761100769043, -42.8563995361328, \n",
    "    -40.9516983032227, -39.0470008850098, -37.1422004699707, \n",
    "    -35.2374992370605, -33.3328018188477, -31.4281005859375, \n",
    "    -29.5233993530273, -27.6186008453369, -25.7138996124268, \n",
    "    -23.8092002868652, -21.9043998718262, -19.9997005462646, \n",
    "    -18.0949993133545, -16.1902008056641, -14.2854995727539, \n",
    "    -12.3808002471924, -10.4759998321533, -8.57129955291748, \n",
    "    -6.66660022735596, -4.76179981231689, -2.85710000991821, \n",
    "    -0.952400028705597, 0.952400028705597, 2.85710000991821, \n",
    "    4.76179981231689, 6.66660022735596, 8.57129955291748, 10.4759998321533, \n",
    "    12.3808002471924, 14.2854995727539, 16.1902008056641, 18.0949993133545, \n",
    "    19.9997005462646, 21.9043998718262, 23.8092002868652, 25.7138996124268, \n",
    "    27.6186008453369, 29.5233993530273, 31.4281005859375, 33.3328018188477, \n",
    "    35.2374992370605, 37.1422004699707, 39.0470008850098, 40.9516983032227, \n",
    "    42.8563995361328, 44.761100769043, 46.6657981872559, 48.570499420166, \n",
    "    50.4752006530762, 52.3799018859863, 54.2845993041992, 56.1893005371094, \n",
    "    58.0940017700195, 59.9986000061035, 61.9033012390137, 63.8078994750977, \n",
    "    65.7125015258789, 67.6171035766602, 69.5216979980469, 71.4262008666992, \n",
    "    73.3307037353516, 75.2350997924805, 77.1392974853516, 79.0435028076172, \n",
    "    80.9474029541016, 82.8507995605469, 84.7531967163086, 86.6531982421875, \n",
    "    88.5419998168945]\n",
    "\n",
    "print(np.shape(lat_unique))\n",
    "print(np.shape(lon_unique))"
   ]
  },
  {
   "cell_type": "code",
   "execution_count": 20,
   "metadata": {},
   "outputs": [
    {
     "name": "stdout",
     "output_type": "stream",
     "text": [
      "['ACCESS1-0', 'ACCESS1-3', 'CMCC-CM', 'CMCC-CMS', 'CNRM-CM5', 'CSIRO-Mk3-6-0', 'CanESM2', 'FGOALS-s2', 'GFDL-CM3', 'GFDL-ESM2G', 'GFDL-ESM2M', 'HadGEM2-AO', 'IPSL-CM5A-LR', 'IPSL-CM5A-MR', 'IPSL-CM5B-LR', 'MIROC-ESM', 'MIROC-ESM-CHEM', 'MPI-ESM-MR', 'MRI-CGCM3', 'MRI-ESM1', 'NorESM1-M']\n",
      "Jan ACCESS1-0\n",
      "(94, 192)\n",
      "Jan ACCESS1-0 OK!\n",
      "Jan ACCESS1-3\n",
      "(94, 192, 2)\n",
      "Jan ACCESS1-3 OK!\n",
      "Jan CMCC-CM\n",
      "(94, 192, 3)\n",
      "Jan CMCC-CM OK!\n",
      "Jan CMCC-CMS\n",
      "(94, 192, 4)\n",
      "Jan CMCC-CMS OK!\n",
      "Jan CNRM-CM5\n",
      "(94, 192, 5)\n",
      "Jan CNRM-CM5 OK!\n",
      "Jan CSIRO-Mk3-6-0\n",
      "(94, 192, 6)\n",
      "Jan CSIRO-Mk3-6-0 OK!\n",
      "Jan CanESM2\n",
      "(94, 192, 7)\n",
      "Jan CanESM2 OK!\n",
      "Jan FGOALS-s2\n",
      "(94, 192, 8)\n",
      "Jan FGOALS-s2 OK!\n",
      "Jan GFDL-CM3\n",
      "(94, 192, 9)\n",
      "Jan GFDL-CM3 OK!\n",
      "Jan GFDL-ESM2G\n",
      "(94, 192, 10)\n",
      "Jan GFDL-ESM2G OK!\n",
      "Jan GFDL-ESM2M\n"
     ]
    },
    {
     "ename": "FileNotFoundError",
     "evalue": "[Errno 2] No such file or directory: b'/Users/earl/Desktop/cyclamen/rcp85/mon/atmos/tas/latest/GFDL-ESM2M_r1i1p1_2080-2099monthlymean.nc'",
     "output_type": "error",
     "traceback": [
      "\u001b[0;31m---------------------------------------------------------------------------\u001b[0m",
      "\u001b[0;31mFileNotFoundError\u001b[0m                         Traceback (most recent call last)",
      "\u001b[0;32m<ipython-input-20-87d7c03aa643>\u001b[0m in \u001b[0;36m<module>\u001b[0;34m()\u001b[0m\n\u001b[1;32m     22\u001b[0m             \u001b[0mr\u001b[0m \u001b[0;34m=\u001b[0m \u001b[0;34m'1'\u001b[0m\u001b[0;34m\u001b[0m\u001b[0m\n\u001b[1;32m     23\u001b[0m         uas_rcp85_data = xr.open_dataset(\n\u001b[0;32m---> 24\u001b[0;31m             rcp85_uas_path + model + '_r' + r + 'i1p1_2080-2099monthlymean.nc', decode_times=False)\n\u001b[0m\u001b[1;32m     25\u001b[0m         uas_hist_data = xr.open_dataset(\n\u001b[1;32m     26\u001b[0m             hist_uas_path + model + '_r' + r + 'i1p1_1980-1999monthlymean.nc', decode_times=False)\n",
      "\u001b[0;32m~/miniconda3/lib/python3.6/site-packages/xarray/backends/api.py\u001b[0m in \u001b[0;36mopen_dataset\u001b[0;34m(filename_or_obj, group, decode_cf, mask_and_scale, decode_times, autoclose, concat_characters, decode_coords, engine, chunks, lock, cache, drop_variables)\u001b[0m\n\u001b[1;32m    284\u001b[0m             store = backends.NetCDF4DataStore.open(filename_or_obj,\n\u001b[1;32m    285\u001b[0m                                                    \u001b[0mgroup\u001b[0m\u001b[0;34m=\u001b[0m\u001b[0mgroup\u001b[0m\u001b[0;34m,\u001b[0m\u001b[0;34m\u001b[0m\u001b[0m\n\u001b[0;32m--> 286\u001b[0;31m                                                    autoclose=autoclose)\n\u001b[0m\u001b[1;32m    287\u001b[0m         \u001b[0;32melif\u001b[0m \u001b[0mengine\u001b[0m \u001b[0;34m==\u001b[0m \u001b[0;34m'scipy'\u001b[0m\u001b[0;34m:\u001b[0m\u001b[0;34m\u001b[0m\u001b[0m\n\u001b[1;32m    288\u001b[0m             store = backends.ScipyDataStore(filename_or_obj,\n",
      "\u001b[0;32m~/miniconda3/lib/python3.6/site-packages/xarray/backends/netCDF4_.py\u001b[0m in \u001b[0;36mopen\u001b[0;34m(cls, filename, mode, format, group, writer, clobber, diskless, persist, autoclose)\u001b[0m\n\u001b[1;32m    273\u001b[0m                                    \u001b[0mdiskless\u001b[0m\u001b[0;34m=\u001b[0m\u001b[0mdiskless\u001b[0m\u001b[0;34m,\u001b[0m \u001b[0mpersist\u001b[0m\u001b[0;34m=\u001b[0m\u001b[0mpersist\u001b[0m\u001b[0;34m,\u001b[0m\u001b[0;34m\u001b[0m\u001b[0m\n\u001b[1;32m    274\u001b[0m                                    format=format)\n\u001b[0;32m--> 275\u001b[0;31m         \u001b[0mds\u001b[0m \u001b[0;34m=\u001b[0m \u001b[0mopener\u001b[0m\u001b[0;34m(\u001b[0m\u001b[0;34m)\u001b[0m\u001b[0;34m\u001b[0m\u001b[0m\n\u001b[0m\u001b[1;32m    276\u001b[0m         return cls(ds, mode=mode, writer=writer, opener=opener,\n\u001b[1;32m    277\u001b[0m                    autoclose=autoclose)\n",
      "\u001b[0;32m~/miniconda3/lib/python3.6/site-packages/xarray/backends/netCDF4_.py\u001b[0m in \u001b[0;36m_open_netcdf4_group\u001b[0;34m(filename, mode, group, **kwargs)\u001b[0m\n\u001b[1;32m    197\u001b[0m     \u001b[0;32mimport\u001b[0m \u001b[0mnetCDF4\u001b[0m \u001b[0;32mas\u001b[0m \u001b[0mnc4\u001b[0m\u001b[0;34m\u001b[0m\u001b[0m\n\u001b[1;32m    198\u001b[0m \u001b[0;34m\u001b[0m\u001b[0m\n\u001b[0;32m--> 199\u001b[0;31m     \u001b[0mds\u001b[0m \u001b[0;34m=\u001b[0m \u001b[0mnc4\u001b[0m\u001b[0;34m.\u001b[0m\u001b[0mDataset\u001b[0m\u001b[0;34m(\u001b[0m\u001b[0mfilename\u001b[0m\u001b[0;34m,\u001b[0m \u001b[0mmode\u001b[0m\u001b[0;34m=\u001b[0m\u001b[0mmode\u001b[0m\u001b[0;34m,\u001b[0m \u001b[0;34m**\u001b[0m\u001b[0mkwargs\u001b[0m\u001b[0;34m)\u001b[0m\u001b[0;34m\u001b[0m\u001b[0m\n\u001b[0m\u001b[1;32m    200\u001b[0m \u001b[0;34m\u001b[0m\u001b[0m\n\u001b[1;32m    201\u001b[0m     \u001b[0;32mwith\u001b[0m \u001b[0mclose_on_error\u001b[0m\u001b[0;34m(\u001b[0m\u001b[0mds\u001b[0m\u001b[0;34m)\u001b[0m\u001b[0;34m:\u001b[0m\u001b[0;34m\u001b[0m\u001b[0m\n",
      "\u001b[0;32mnetCDF4/_netCDF4.pyx\u001b[0m in \u001b[0;36mnetCDF4._netCDF4.Dataset.__init__\u001b[0;34m()\u001b[0m\n",
      "\u001b[0;32mnetCDF4/_netCDF4.pyx\u001b[0m in \u001b[0;36mnetCDF4._netCDF4._ensure_nc_success\u001b[0;34m()\u001b[0m\n",
      "\u001b[0;31mFileNotFoundError\u001b[0m: [Errno 2] No such file or directory: b'/Users/earl/Desktop/cyclamen/rcp85/mon/atmos/tas/latest/GFDL-ESM2M_r1i1p1_2080-2099monthlymean.nc'"
     ]
    }
   ],
   "source": [
    "uas_hist_all = []\n",
    "uas_rcp85_all = []\n",
    "\n",
    "plot_list = sorted(SAM_index_sorted_cleaned)\n",
    "\n",
    "# lon_unique = range(0,360)\n",
    "# lat_unique = range(-89,90)\n",
    "\n",
    "grid_lon_unique, grid_lat_unique = np.meshgrid(lon_unique,lat_unique)\n",
    "\n",
    "months = ['Jan', 'Feb', 'Mar', 'Apr', 'May', 'Jun', 'Jul', 'Aug', 'Sep', 'Oct', 'Nov', 'Dec']\n",
    "\n",
    "print(plot_list)\n",
    "for m in range(12):\n",
    "    for idx, model in enumerate(plot_list):\n",
    "        print(months[m] + ' ' + model)\n",
    "        if model in ['MIROC5', 'MPI-ESM-LR', 'inmcm4']:\n",
    "            continue\n",
    "        if model in ['FGOALS-s2']:\n",
    "            r = '2'\n",
    "        else:\n",
    "            r = '1'\n",
    "        uas_rcp85_data = xr.open_dataset(\n",
    "            rcp85_uas_path + model + '_r' + r + 'i1p1_2080-2099monthlymean.nc', decode_times=False)\n",
    "        uas_hist_data = xr.open_dataset(\n",
    "            hist_uas_path + model + '_r' + r + 'i1p1_1980-1999monthlymean.nc', decode_times=False)\n",
    "\n",
    "        uas_hist = uas_hist_data['tas'][m,:,:]\n",
    "        uas_rcp85 = uas_rcp85_data['tas'][m,:,:]\n",
    "\n",
    "        if len(uas_hist_data['lat'].shape) is 2:\n",
    "            if model in ['MPI-ESM-MR']:\n",
    "                uas_lat = uas_hist_data['lat'][:,0]\n",
    "                uas_lon = uas_hist_data['lon'][-1,:]\n",
    "            else:\n",
    "                uas_lat = uas_hist_data['lat'][:,0]\n",
    "                uas_lon = uas_hist_data['lon'][0,:]\n",
    "        else:\n",
    "            uas_lat = uas_hist_data['lat'][:]\n",
    "            uas_lon = uas_hist_data['lon'][:]\n",
    "            \n",
    "        uas_grid_lon_now, uas_grid_lat_now = np.meshgrid(uas_lon, uas_lat)\n",
    "        uas_lon_flat = np.transpose(uas_grid_lon_now.flatten('F'))\n",
    "        uas_lat_flat = uas_grid_lat_now.flatten('F')\n",
    "        uas_flat_list = [uas_lon_flat, uas_lat_flat]    \n",
    "        uas_grid_points = np.transpose(uas_flat_list)\n",
    "        uas_hist_now = uas_hist\n",
    "        uas_rcp85_now = uas_rcp85\n",
    "\n",
    "        uas_hist_now_flatten = uas_hist_now.stack(z=('lon', 'lat'))\n",
    "        uas_rcp85_now_flatten = uas_rcp85_now.stack(z=('lon', 'lat'))\n",
    "\n",
    "        uas_hist_interp = interpolate.griddata(uas_grid_points, uas_hist_now_flatten, \n",
    "                                               (grid_lon_unique, grid_lat_unique), \n",
    "                                               method='linear')\n",
    "        uas_rcp85_interp = interpolate.griddata(uas_grid_points, uas_rcp85_now_flatten, \n",
    "                                               (grid_lon_unique, grid_lat_unique), \n",
    "                                               method='linear')\n",
    "        if idx == 0:\n",
    "            uas_hist_unique = uas_hist_interp\n",
    "            uas_rcp85_unique = uas_rcp85_interp\n",
    "        else:\n",
    "            uas_hist_unique = np.dstack((uas_hist_unique, uas_hist_interp))\n",
    "            uas_rcp85_unique = np.dstack((uas_rcp85_unique, uas_rcp85_interp))\n",
    "        print(uas_hist_unique.shape)\n",
    "        print(months[m] + ' ' + model + ' OK!')\n",
    "    \n",
    "    print(months[m] + ' completed...')\n",
    "    if m == 0:\n",
    "        uas_hist_MMM = np.mean(uas_hist_unique, axis=2)\n",
    "        uas_rcp85_MMM = np.mean(uas_rcp85_unique, axis=2)\n",
    "    else:\n",
    "        uas_hist_MMM = np.dstack((uas_hist_MMM, np.mean(uas_hist_unique, axis=2)))\n",
    "        uas_rcp85_MMM = np.dstack((uas_rcp85_MMM, np.mean(uas_rcp85_unique, axis=2)))\n",
    "    print(uas_hist_MMM.shape)\n",
    "    print(months[m] + ' MMM OK!')\n",
    "    "
   ]
  },
  {
   "cell_type": "code",
   "execution_count": null,
   "metadata": {},
   "outputs": [],
   "source": [
    "matplotlib.rcParams.update({'font.size': 12}) \n",
    "row = 4\n",
    "col = 7\n",
    "plt.rc('text', usetex=True)\n",
    "plt.rc('font', family='serif')\n",
    "\n",
    "plt.close('all')\n",
    "fig = plt.figure() \n",
    "fig.set_size_inches(26, 12)\n",
    "\n",
    "count = -1\n",
    "p = 0\n",
    "for idx in range(12):\n",
    "    print(months[idx])\n",
    "    t = plot_list[idx]\n",
    "    count += 1\n",
    "    if count is col:\n",
    "        count = 0\n",
    "        p += 1\n",
    "    \n",
    "    ax = plt.subplot2grid((row, col), (p*2, count))\n",
    "    cmap = plt.get_cmap('RdBu_r')\n",
    "    step = 0.5\n",
    "    contf_lvls = np.arange(-2,2+1e-08,step)           \n",
    "    ax.set_facecolor('grey')\n",
    "    contf = plt.contourf(lon_unique, lat_unique,\n",
    "                         uas_rcp85_MMM[:,:,idx]-uas_hist_MMM[:,:,idx], contf_lvls, cmap=cmap, extend='both')\n",
    "    ax.set_title('uas anom ' + months[idx])\n",
    "    if idx == len(range(12))-1:\n",
    "        ax = plt.subplot2grid((row, col), (p*2, count+1), colspan=3)\n",
    "        cbar = plt.colorbar(contf, orientation='horizontal', drawedges=True)\n",
    "        cbar.set_label(r'$uas$ $m/s$') \n",
    "        cbar.set_ticks(contf_lvls[np.arange(0,np.size(contf_lvls),2)])\n",
    "        plt.axis('off')\n",
    "        \n",
    "    ax = plt.subplot2grid((row, col), (1+p*2, count))\n",
    "    cmap = plt.get_cmap('BrBG_r')\n",
    "    step = 0.5\n",
    "    contf_lvls = np.arange(-2,2+1e-08,step) \n",
    "    ax.set_facecolor('grey')\n",
    "    contf = plt.contourf(lon_unique, lat_unique, \n",
    "                         vas_rcp85_MMM[:,:,idx]-vas_hist_MMM[:,:,idx], contf_lvls, cmap=cmap, extend='both')\n",
    "    ax.set_title('vas anom ' + months[idx])\n",
    "    if idx == len(range(12))-1:\n",
    "        ax = plt.subplot2grid((row, col), (1+p*2, count+1), colspan=3)\n",
    "        cbar = plt.colorbar(contf, orientation='horizontal', drawedges=True)\n",
    "        cbar.set_label(r'$vas$ $m/s$') \n",
    "        cbar.set_ticks(contf_lvls[np.arange(0,np.size(contf_lvls),2)])\n",
    "        plt.axis('off')\n",
    "    \n",
    "plt.tight_layout()\n",
    "\n",
    "output_ls = os.listdir(figures_path)\n",
    "if not script_name:\n",
    "    script_name = 'test'\n",
    "elif script_name not in output_ls:\n",
    "    os.mkdir(figures_path + '/' + script_name)\n",
    "plt.savefig(figures_path + '/' + script_name + '/' + script_name[0:3] \\\n",
    "            + '_fig2_' + '.png', bbox_inches='tight', dpi=200)\n",
    "    \n",
    "with open(script_name + '.pkl', 'wb') as f:\n",
    "    pickle.dump([lon_unique, lat_unique, \n",
    "                 uas_hist_MMM, vas_hist_MMM, uas_rcp85_MMM, vas_rcp85_MMM], f)\n",
    "    \n"
   ]
  },
  {
   "cell_type": "code",
   "execution_count": null,
   "metadata": {},
   "outputs": [],
   "source": []
  }
 ],
 "metadata": {
  "kernelspec": {
   "display_name": "Python 3",
   "language": "python",
   "name": "python3"
  },
  "language_info": {
   "codemirror_mode": {
    "name": "ipython",
    "version": 3
   },
   "file_extension": ".py",
   "mimetype": "text/x-python",
   "name": "python",
   "nbconvert_exporter": "python",
   "pygments_lexer": "ipython3",
   "version": "3.6.3"
  }
 },
 "nbformat": 4,
 "nbformat_minor": 2
}
