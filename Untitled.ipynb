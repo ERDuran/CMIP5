{
 "cells": [
  {
   "cell_type": "code",
   "execution_count": 5,
   "metadata": {},
   "outputs": [
    {
     "name": "stdout",
     "output_type": "stream",
     "text": [
      "['ACCESS1-0', 'ACCESS1-3', 'CMCC-CMS', 'CMCC-CM', 'CNRM-CM5', 'CSIRO-Mk3-6-0', 'CanESM2', 'FGOALS-s2', 'GFDL-CM3', 'GFDL-ESM2G', 'GFDL-ESM2M', 'HadGEM2-AO', 'IPSL-CM5A-LR', 'IPSL-CM5A-MR', 'IPSL-CM5B-LR', 'MIROC-ESM-CHEM', 'MIROC-ESM', 'MPI-ESM-MR', 'MRI-CGCM3', 'MRI-ESM1', 'NorESM1-M']\n"
     ]
    }
   ],
   "source": [
    "import pickle\n",
    "\n",
    "\n",
    "with open('p25_tauuo_thetao_zos.pkl', 'rb') as f:\n",
    "    [lat_SAN, lat_SAS, lon_SAW, lon_SAE, lat_TSN, lat_TSS, lon_TSW, lon_TSE,\n",
    "    tauuo_SA, thetao_SA, thetao_TS, zos_TS, plot_list] = \\\n",
    "    pickle.load(f)\n",
    "\n",
    "print(plot_list)"
   ]
  }
 ],
 "metadata": {
  "kernelspec": {
   "display_name": "Python [conda env:analysis3-18.10]",
   "language": "python",
   "name": "conda-env-analysis3-18.10-py"
  }
 },
 "nbformat": 4,
 "nbformat_minor": 2
}
