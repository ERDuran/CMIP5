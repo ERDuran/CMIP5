{
 "cells": [
  {
   "cell_type": "code",
   "execution_count": null,
   "metadata": {},
   "outputs": [],
   "source": [
    "'''\n",
    "This file plots CMIP5 RCP - HIST over South Australia\n",
    "/Users/earl/Desktop/Yang\n",
    "and places the outputs in\n",
    "/Users/earl/Dropbox/CMIP5/figures\n",
    "\n",
    "Earl Duran \n",
    "created: 19-Mar-18\n",
    "e.duran@unsw.edu.au\n",
    "'''\n",
    "\n",
    "import os\n",
    "import xarray as xr\n",
    "import numpy as np\n",
    "from mpl_toolkits.basemap import Basemap\n",
    "import matplotlib.pyplot as plt\n",
    "import matplotlib\n",
    "import sys\n",
    "import pickle\n",
    "import itertools\n",
    "def find_nearest_index(array, value):\n",
    "    return int((np.abs(array - value)).argmin())\n",
    "from scipy import interpolate\n"
   ]
  },
  {
   "cell_type": "code",
   "execution_count": null,
   "metadata": {},
   "outputs": [],
   "source": [
    "%%javascript\n",
    "IPython.notebook.kernel.execute('nb_name = ' + '\"' + IPython.notebook.notebook_name + '\"')"
   ]
  },
  {
   "cell_type": "code",
   "execution_count": null,
   "metadata": {},
   "outputs": [],
   "source": [
    "os.system('sshfs \\\n",
    "erd561@raijin.nci.org.au:/g/data/e14/erd561/CMIP5/dahlia/ \\\n",
    "/Users/earl/Desktop/dipladenia')"
   ]
  },
  {
   "cell_type": "code",
   "execution_count": null,
   "metadata": {},
   "outputs": [],
   "source": [
    "with open('p13_make_MMM_monthly_CMIP5.pkl', 'rb') as f:\n",
    "    lon_unique, lat_unique, uas_hist_MMM, vas_hist_MMM, uas_rcp85_MMM, vas_rcp85_MMM = \\\n",
    "    pickle.load(f)\n",
    "    \n",
    "script_name = nb_name[:-6]\n",
    "print(script_name)\n",
    "figures_path = '/Users/earl/Dropbox/CMIP5/figures/'"
   ]
  },
  {
   "cell_type": "code",
   "execution_count": null,
   "metadata": {},
   "outputs": [],
   "source": [
    "uas_hist_MMM[0,:,:] = uas_hist_MMM[1,:,:]\n",
    "uas_hist_MMM[-1,:,:] = uas_hist_MMM[-2,:,:]\n",
    "uas_hist_MMM[:,0,:] = uas_hist_MMM[:,1,:]\n",
    "uas_hist_MMM[:,-1,:] = uas_hist_MMM[:,-2,:]\n",
    "\n",
    "vas_hist_MMM[0,:,:] = vas_hist_MMM[1,:,:]\n",
    "vas_hist_MMM[-1,:,:] = vas_hist_MMM[-2,:,:]\n",
    "vas_hist_MMM[:,0,:] = vas_hist_MMM[:,1,:]\n",
    "vas_hist_MMM[:,-1,:] = vas_hist_MMM[:,-2,:]\n",
    "\n",
    "uas_rcp85_MMM[0,:,:] = uas_rcp85_MMM[1,:,:]\n",
    "uas_rcp85_MMM[-1,:,:] = uas_rcp85_MMM[-2,:,:]\n",
    "uas_rcp85_MMM[:,0,:] = uas_rcp85_MMM[:,1,:]\n",
    "uas_rcp85_MMM[:,-1,:] = uas_rcp85_MMM[:,-2,:]\n",
    "\n",
    "vas_rcp85_MMM[0,:,:] = vas_rcp85_MMM[1,:,:]\n",
    "vas_rcp85_MMM[-1,:,:] = vas_rcp85_MMM[-2,:,:]\n",
    "vas_rcp85_MMM[:,0,:] = vas_rcp85_MMM[:,1,:]\n",
    "vas_rcp85_MMM[:,-1,:] = vas_rcp85_MMM[:,-2,:]\n",
    "\n",
    "#print(uas_hist_MMM[:,-1,1])\n",
    "#plt.contourf(uas_hist_MMM[:,:,1])"
   ]
  },
  {
   "cell_type": "code",
   "execution_count": null,
   "metadata": {},
   "outputs": [],
   "source": [
    "uas_hist_MMM_for_interp = np.dstack((\n",
    "    uas_hist_MMM[:,:,11], uas_hist_MMM, uas_hist_MMM[:,:,0]))\n",
    "vas_hist_MMM_for_interp = np.dstack((\n",
    "    vas_hist_MMM[:,:,11], vas_hist_MMM, vas_hist_MMM[:,:,0]))\n",
    "uas_rcp85_MMM_for_interp = np.dstack((\n",
    "    uas_rcp85_MMM[:,:,11], uas_rcp85_MMM, uas_rcp85_MMM[:,:,0]))\n",
    "vas_rcp85_MMM_for_interp = np.dstack((\n",
    "    vas_rcp85_MMM[:,:,11], vas_rcp85_MMM, vas_rcp85_MMM[:,:,0]))\n",
    "\n",
    "time_axis = [\n",
    "    0, # 0: Dec 16 12pm\n",
    "    0 + 31*4, # = 0 + 124 = 124: Jan 16 12pm\n",
    "    124 + 30*4, # = 124 + 120 = 244: Feb 15 12pm\n",
    "    244 + 29*4, # = 244 + 116 = 360: Mar 16 12pm\n",
    "    360 + 31*4 -2, # 360 + 122 = 482: Apr 16 12am\n",
    "    482 + 30*4 +2, # 482 + 122 = 604: May 16 12pm\n",
    "    604 + 31*4 -2, # 604 + 122 = 726: Jun 16 12am\n",
    "    726 + 30*4 +2, # 726 + 122 = 848: Jul 16 12pm\n",
    "    848 + 31*4, # 848 + 124 = 972: Aug 16 12pm\n",
    "    972 + 31*4 -2, # 972 + 122 = 1094: Sep 16 12am\n",
    "    1094 + 30*4 +2, # 1094 + 122 = 1216: Oct 16 12pm\n",
    "    1216 + 31*4 -2, # 1216 + 122 = 1338: Nov 16 12am\n",
    "    1338 + 30*4 +2, # 1338 + 122 = 1460: Dec 16 12pm\n",
    "    1460 + 31*4, # = 1460 + 124 = 1584: Jan 16 12pm\n",
    "]\n",
    "time_axis_6hr = np.arange(\n",
    "    0 + 16*4 -2, # = 62: Jan 1 12am\n",
    "    1460 + 15*4 +1 +1, # = 1521: Dec 31 18pm\n",
    "    1\n",
    ")\n",
    "\n",
    "uas_hist_MMM_6hr = []\n",
    "uas_rcp85_MMM_6hr = []\n",
    "vas_hist_MMM_6hr = []\n",
    "vas_rcp85_MMM_6hr = []\n",
    "for i_idx,i in enumerate(lat_unique):\n",
    "    print('lat: ' + str(i))\n",
    "    for j_idx,j in enumerate(lon_unique):\n",
    "        uas_hist_MMM_6hr.append(interpolate.griddata(\n",
    "            time_axis, uas_hist_MMM_for_interp[i_idx, j_idx, :],\n",
    "            time_axis_6hr, method='linear'))\n",
    "        uas_rcp85_MMM_6hr.append(interpolate.griddata(\n",
    "            time_axis, uas_rcp85_MMM_for_interp[i_idx, j_idx, :],\n",
    "            time_axis_6hr, method='linear'))\n",
    "        vas_hist_MMM_6hr.append(interpolate.griddata(\n",
    "            time_axis, vas_hist_MMM_for_interp[i_idx, j_idx, :],\n",
    "            time_axis_6hr, method='linear'))\n",
    "        vas_rcp85_MMM_6hr.append(interpolate.griddata(\n",
    "            time_axis, vas_rcp85_MMM_for_interp[i_idx, j_idx, :],\n",
    "            time_axis_6hr, method='linear'))  \n",
    "print(np.shape(uas_hist_MMM_6hr))\n",
    "\n",
    "uas_hist_MMM_6hr = np.reshape(uas_hist_MMM_6hr, \n",
    "    (len(lat_unique), len(lon_unique), len(time_axis_6hr)))\n",
    "uas_rcp85_MMM_6hr = np.reshape(uas_rcp85_MMM_6hr, \n",
    "    (len(lat_unique), len(lon_unique), len(time_axis_6hr)))\n",
    "vas_hist_MMM_6hr = np.reshape(vas_hist_MMM_6hr, \n",
    "    (len(lat_unique), len(lon_unique), len(time_axis_6hr)))\n",
    "vas_rcp85_MMM_6hr = np.reshape(vas_rcp85_MMM_6hr, \n",
    "    (len(lat_unique), len(lon_unique), len(time_axis_6hr)))\n",
    "print(np.shape(uas_hist_MMM_6hr))\n",
    "\n",
    "uas_hist_MMM_6hr = np.transpose(uas_hist_MMM_6hr, (2, 0, 1))\n",
    "uas_rcp85_MMM_6hr = np.transpose(uas_rcp85_MMM_6hr, (2, 0, 1))\n",
    "vas_hist_MMM_6hr = np.transpose(vas_hist_MMM_6hr, (2, 0, 1))\n",
    "vas_rcp85_MMM_6hr = np.transpose(vas_rcp85_MMM_6hr, (2, 0, 1))\n",
    "print(np.shape(uas_hist_MMM_6hr))"
   ]
  },
  {
   "cell_type": "code",
   "execution_count": null,
   "metadata": {},
   "outputs": [],
   "source": [
    "ofile = nc4.Dataset('/Users/earl/Desktop/dipladenia/u_10_rcp85.nc', 'a')\n",
    "var = ofile.variables['U_10']\n",
    "print(var.shape)\n",
    "print(np.shape(uas_rcp85_MMM_6hr))\n",
    "var[:] = uas_rcp85_MMM_6hr\n",
    "ofile.sync()\n",
    "ofile.close()\n",
    "print('u_10_rcp85.nc OK!')"
   ]
  },
  {
   "cell_type": "code",
   "execution_count": null,
   "metadata": {},
   "outputs": [],
   "source": [
    "ofile = nc4.Dataset('/Users/earl/Desktop/dipladenia/v_10_hist.nc', 'a')\n",
    "var = ofile.variables['V_10']\n",
    "print(var.shape)\n",
    "print(np.shape(vas_hist_MMM_6hr))\n",
    "var[:] = vas_hist_MMM_6hr\n",
    "ofile.sync()\n",
    "ofile.close()\n",
    "print('v_10_hist.nc OK!')"
   ]
  },
  {
   "cell_type": "code",
   "execution_count": null,
   "metadata": {},
   "outputs": [],
   "source": [
    "ofile = nc4.Dataset('/Users/earl/Desktop/dipladenia/v_10_hist.nc', 'a')\n",
    "var = ofile.variables['V_10']\n",
    "print(var.shape)\n",
    "print(np.shape(vas_hist_MMM_6hr))\n",
    "var[:] = vas_hist_MMM_6hr\n",
    "ofile.sync()\n",
    "ofile.close()\n",
    "print('v_10_hist.nc OK!')"
   ]
  },
  {
   "cell_type": "code",
   "execution_count": null,
   "metadata": {},
   "outputs": [],
   "source": [
    "ofile = nc4.Dataset('/Users/earl/Desktop/dipladenia/v_10_rcp85.nc', 'a')\n",
    "var = ofile.variables['V_10']\n",
    "print(var.shape)\n",
    "print(np.shape(vas_rcp85_MMM_6hr))\n",
    "var[:] = vas_rcp85_MMM_6hr\n",
    "ofile.sync()\n",
    "ofile.close()\n",
    "print('v_10_rcp85.nc OK!')"
   ]
  },
  {
   "cell_type": "code",
   "execution_count": null,
   "metadata": {},
   "outputs": [],
   "source": []
  },
  {
   "cell_type": "code",
   "execution_count": null,
   "metadata": {},
   "outputs": [],
   "source": []
  }
 ],
 "metadata": {
  "kernelspec": {
   "display_name": "Python 3",
   "language": "python",
   "name": "python3"
  },
  "language_info": {
   "codemirror_mode": {
    "name": "ipython",
    "version": 3
   },
   "file_extension": ".py",
   "mimetype": "text/x-python",
   "name": "python",
   "nbconvert_exporter": "python",
   "pygments_lexer": "ipython3",
   "version": "3.6.3"
  }
 },
 "nbformat": 4,
 "nbformat_minor": 2
}
